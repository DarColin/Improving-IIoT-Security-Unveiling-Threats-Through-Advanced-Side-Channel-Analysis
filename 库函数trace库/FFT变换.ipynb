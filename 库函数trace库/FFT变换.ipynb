{
 "cells": [
  {
   "cell_type": "code",
   "execution_count": 1,
   "id": "c71b291e",
   "metadata": {},
   "outputs": [],
   "source": [
    "import numpy as np\n",
    "\n",
    "# 文件列表\n",
    "data_files = [\n",
    "    'atoi_600.npy', 'atol_900.npy', 'getenv_900.npy', 'itoa_800.npy',\n",
    "    'memmove_580.npy', 'qsort_600.npy', 'strcat_650.npy', 'strdup_750.npy',\n",
    "    'strncat_750.npy', 'strtol_900.npy', 'tolower_700.npy', 'toupper_700.npy',\n",
    "    'bsearch_250.npy', 'clear87_100.npy', 'div_200.npy', 'ldiv_180.npy',\n",
    "    'longjump_150.npy', 'memccpy_220.npy', 'rand_150.npy', 'realloc_150.npy',\n",
    "    'setjmp_200.npy', 'srand_150.npy', 'strcpy_200.npy', 'strlwr_200.npy',\n",
    "    'strncpy_256.npy', 'strtok_200.npy', 'strupr_200.npy', 'swab_200.npy',\n",
    "    'system_200.npy'\n",
    "]\n",
    "\n",
    "# 循环处理每个文件\n",
    "for file_name in data_files:\n",
    "    # 加载数据\n",
    "    data = np.load(file_name)\n",
    "    \n",
    "    # 进行FFT变换\n",
    "    fft_result = np.fft.fft(data, axis=1)\n",
    "    \n",
    "    # 构建新文件名\n",
    "    new_file_name = file_name.split('.')[0] + '_FFT.npy'\n",
    "    \n",
    "    # 保存结果到新文件\n",
    "    np.save(new_file_name, fft_result)\n"
   ]
  },
  {
   "cell_type": "code",
   "execution_count": null,
   "id": "4bd57c3f",
   "metadata": {},
   "outputs": [],
   "source": []
  }
 ],
 "metadata": {
  "kernelspec": {
   "display_name": "Python 3 (ipykernel)",
   "language": "python",
   "name": "python3"
  },
  "language_info": {
   "codemirror_mode": {
    "name": "ipython",
    "version": 3
   },
   "file_extension": ".py",
   "mimetype": "text/x-python",
   "name": "python",
   "nbconvert_exporter": "python",
   "pygments_lexer": "ipython3",
   "version": "3.7.16"
  }
 },
 "nbformat": 4,
 "nbformat_minor": 5
}
